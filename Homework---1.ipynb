{
 "cells": [
  {
   "cell_type": "markdown",
   "metadata": {},
   "source": [
    "#  -*-coding:utf-8-*-\n",
    "# python2.7\n",
    "# 庄建伟"
   ]
  },
  {
   "cell_type": "code",
   "execution_count": 26,
   "metadata": {},
   "outputs": [],
   "source": [
    "# -*-coding:utf-8-*-\n",
    "import numpy as np\n",
    "import pandas as pd\n",
    "import string"
   ]
  },
  {
   "cell_type": "code",
   "execution_count": 27,
   "metadata": {
    "collapsed": true
   },
   "outputs": [],
   "source": [
    "list1 = []\n",
    "list2 = [chr(i) for i in range(65,91)]\n",
    "list3 = ['one','two','three','four']\n",
    "list4 = list(string.ascii_lowercase)   ########26个字母"
   ]
  },
  {
   "cell_type": "code",
   "execution_count": 28,
   "metadata": {},
   "outputs": [
    {
     "name": "stdout",
     "output_type": "stream",
     "text": [
      "[[0 0 1 1]\n",
      " [0 1 1 0]\n",
      " [0 0 1 1]\n",
      " [1 0 0 0]\n",
      " [1 1 1 0]\n",
      " [0 0 1 0]\n",
      " [1 1 1 1]\n",
      " [1 0 1 0]\n",
      " [0 1 1 1]\n",
      " [0 0 1 0]\n",
      " [0 0 0 1]\n",
      " [0 1 0 0]\n",
      " [0 1 1 1]\n",
      " [0 1 0 0]\n",
      " [1 0 0 0]\n",
      " [0 1 1 0]\n",
      " [0 0 0 1]\n",
      " [0 0 1 1]\n",
      " [1 1 0 1]\n",
      " [1 1 0 0]\n",
      " [1 1 1 1]\n",
      " [0 1 1 1]\n",
      " [1 0 1 0]\n",
      " [0 0 1 0]\n",
      " [0 0 1 0]\n",
      " [1 0 0 1]]\n"
     ]
    }
   ],
   "source": [
    "x = np.random.binomial(1,0.5,[26,4])   #生成了26*4服从二项分布的数组\n",
    "print x"
   ]
  },
  {
   "cell_type": "code",
   "execution_count": 29,
   "metadata": {},
   "outputs": [
    {
     "name": "stdout",
     "output_type": "stream",
     "text": [
      "[1, 1, 1, 1, 1, 1, 1, 1, 1, 1, 1, 1, 1, 1, 1, 1, 1, 1, 1, 1, 1, 1, 1, 1, 1, 1, 1, 1, 1, 1, 1, 1, 1, 1, 1, 1, 1, 1, 1, 1, 1, 1, 1, 1, 1, 1, 1, 1, 1, 1, 1]\n"
     ]
    }
   ],
   "source": [
    "for i,j in enumerate(x):      #从数组中选出大于0.5的数据\n",
    "    for k in x[i]:\n",
    "        if k > 0.5:\n",
    "            list1.append(k)\n",
    "print list1"
   ]
  },
  {
   "cell_type": "code",
   "execution_count": 30,
   "metadata": {},
   "outputs": [
    {
     "name": "stdout",
     "output_type": "stream",
     "text": [
      "   one  two  three  four\n",
      "A    0    0      1     1\n",
      "B    0    1      1     0\n",
      "C    0    0      1     1\n",
      "D    1    0      0     0\n",
      "E    1    1      1     0\n",
      "F    0    0      1     0\n",
      "G    1    1      1     1\n",
      "H    1    0      1     0\n",
      "I    0    1      1     1\n",
      "J    0    0      1     0\n",
      "K    0    0      0     1\n",
      "L    0    1      0     0\n",
      "M    0    1      1     1\n",
      "N    0    1      0     0\n",
      "O    1    0      0     0\n",
      "P    0    1      1     0\n",
      "Q    0    0      0     1\n",
      "R    0    0      1     1\n",
      "S    1    1      0     1\n",
      "T    1    1      0     0\n",
      "U    1    1      1     1\n",
      "V    0    1      1     1\n",
      "W    1    0      1     0\n",
      "X    0    0      1     0\n",
      "Y    0    0      1     0\n",
      "Z    1    0      0     1\n",
      "A    0\n",
      "B    1\n",
      "C    0\n",
      "D    0\n",
      "E    1\n",
      "F    0\n",
      "G    1\n",
      "H    0\n",
      "I    1\n",
      "J    0\n",
      "K    0\n",
      "L    1\n",
      "M    1\n",
      "N    1\n",
      "O    0\n",
      "P    1\n",
      "Q    0\n",
      "R    0\n",
      "S    1\n",
      "T    1\n",
      "U    1\n",
      "V    1\n",
      "W    0\n",
      "X    0\n",
      "Y    0\n",
      "Z    0\n",
      "Name: two, dtype: int64\n"
     ]
    }
   ],
   "source": [
    "frame = pd.DataFrame(x,list2,list3)   #生成行索引为26个字母，列索引为'one','two','three','four'的dataframe\n",
    "print frame\n",
    "print frame['two']  #'= frame[[1]]，取出‘1’列的方法'"
   ]
  },
  {
   "cell_type": "code",
   "execution_count": 31,
   "metadata": {},
   "outputs": [
    {
     "name": "stdout",
     "output_type": "stream",
     "text": [
      "   one  two  three  four\n",
      "N    0    1      0     0\n",
      "E    1    1      1     0\n",
      "G    1    1      1     1\n",
      "V    0    1      1     1\n",
      "I    0    1      1     1\n"
     ]
    }
   ],
   "source": [
    "print frame.sort_values('two',ascending=False).head(5)  #取出‘two’列排序前五的行"
   ]
  },
  {
   "cell_type": "code",
   "execution_count": 25,
   "metadata": {
    "scrolled": true
   },
   "outputs": [
    {
     "name": "stdout",
     "output_type": "stream",
     "text": [
      "13\n",
      "0.5\n",
      "0.25\n"
     ]
    }
   ],
   "source": [
    "#计算‘one’列           等价的做法：# from numpy import sum,median,var\n",
    "print np.sum(frame['one'])         # = print sum(frame['one'])\n",
    "print np.median(frame['one'])      # = print median(frame['one'])\n",
    "print np.var(frame['one'])         # = print var(frame['one'])\n",
    "\n",
    "#print frame[frame.two>1]#保留dataframe中符合，two>1的数据。"
   ]
  }
 ],
 "metadata": {
  "kernelspec": {
   "display_name": "Python 2",
   "language": "python",
   "name": "python2"
  },
  "language_info": {
   "codemirror_mode": {
    "name": "ipython",
    "version": 2
   },
   "file_extension": ".py",
   "mimetype": "text/x-python",
   "name": "python",
   "nbconvert_exporter": "python",
   "pygments_lexer": "ipython2",
   "version": "2.7.12+"
  }
 },
 "nbformat": 4,
 "nbformat_minor": 2
}
